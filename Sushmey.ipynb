{
 "cells": [
  {
   "cell_type": "code",
   "execution_count": null,
   "id": "bf0a3423-9070-4b9e-a32a-baa6bb83b93e",
   "metadata": {},
   "outputs": [],
   "source": [
    "folder_path = r'Documents'\n",
    "text_loader_kwargs = {'autodetect_encoding':True}"
   ]
  },
  {
   "cell_type": "code",
   "execution_count": 31,
   "id": "0574beab-b4d7-4f2d-9f66-dc3ed687b8d7",
   "metadata": {},
   "outputs": [],
   "source": [
    "from langchain.document_loaders import DirectoryLoader, TextLoader\n",
    "from langchain.text_splitter import RecursiveCharacterTextSplitter\n",
    "\n",
    "\n",
    "folder_path = 'Documents'\n",
    "text_loader_kwargs = {'autodetect_encoding':True}\n",
    "\n",
    "# Might have to change the glob regex to look for different kinds of files\n",
    "mixed_loader = DirectoryLoader(\n",
    "    path = folder_path,\n",
    "    loader_cls = TextLoader,\n",
    "    loader_kwargs = text_loader_kwargs\n",
    ")\n",
    "\n",
    "doc = mixed_loader.load()\n",
    "text_splitter = RecursiveCharacterTextSplitter(chunk_size=1000, chunk_overlap=0)\n",
    "docs = text_splitter.split_documents(doc)"
   ]
  },
  {
   "cell_type": "code",
   "execution_count": 4,
   "id": "6927f484-32aa-4711-abe6-ffb062726705",
   "metadata": {},
   "outputs": [
    {
     "name": "stderr",
     "output_type": "stream",
     "text": [
      "/Users/sushmey/Documents/GitHub/RAG_Venv3.11/lib/python3.11/site-packages/tqdm/auto.py:21: TqdmWarning: IProgress not found. Please update jupyter and ipywidgets. See https://ipywidgets.readthedocs.io/en/stable/user_install.html\n",
      "  from .autonotebook import tqdm as notebook_tqdm\n"
     ]
    }
   ],
   "source": [
    "from langchain.text_splitter import RecursiveCharacterTextSplitter\n",
    "from langchain_huggingface import HuggingFaceEmbeddings\n",
    "from langchain.vectorstores import FAISS\n",
    "from langchain.llms import HuggingFacePipeline\n",
    "from langchain.chains import RetrievalQA\n",
    "from transformers import pipeline\n",
    "from langchain.llms.base import LLM"
   ]
  },
  {
   "cell_type": "code",
   "execution_count": 5,
   "id": "0a4385d3-a7e4-485a-ad20-3a4ebd3834ce",
   "metadata": {},
   "outputs": [
    {
     "data": {
      "text/plain": [
       "VectorStoreRetriever(tags=['FAISS', 'HuggingFaceEmbeddings'], vectorstore=<langchain_community.vectorstores.faiss.FAISS object at 0x12ade5b10>, search_kwargs={'k': 10})"
      ]
     },
     "execution_count": 5,
     "metadata": {},
     "output_type": "execute_result"
    }
   ],
   "source": [
    "encoder =  HuggingFaceEmbeddings(model_name=\"sentence-transformers/all-mpnet-base-v2\")\n",
    "db = FAISS.from_documents(documents=docs, embedding=encoder)\n",
    "retriever = db.as_retriever(search_kwargs = {\"k\":10})"
   ]
  },
  {
   "cell_type": "code",
   "execution_count": 23,
   "id": "34996b15-1bcc-4753-b8d8-0e155ddcf693",
   "metadata": {},
   "outputs": [],
   "source": [
    "from google.generativeai import configure, GenerativeModel\n",
    "from dotenv import load_dotenv\n",
    "\n",
    "load_dotenv()\n",
    "configure(api_key=os.getenv(\"GEMINI_API_KEY\"))\n",
    "\n",
    "# Gemini wrapper as a LangChain-compatible LLM\n",
    "class GeminiLLM(LLM):\n",
    "    model: GenerativeModel\n",
    "\n",
    "    def _call(self, prompt: str, stop=None):\n",
    "        response = self.model.generate_content(prompt)\n",
    "        return response.text\n",
    "\n",
    "    @property\n",
    "    def _llm_type(self):\n",
    "        return \"gemini\""
   ]
  },
  {
   "cell_type": "code",
   "execution_count": 24,
   "id": "7c99805a-02d6-40f1-aabe-c0efcb6ba1d8",
   "metadata": {},
   "outputs": [],
   "source": [
    "from langchain_huggingface import HuggingFacePipeline\n",
    "from langchain.chains import RetrievalQA\n",
    "gemini_model = GenerativeModel(\"gemini-2.0-flash\")\n",
    "llm = GeminiLLM(model=gemini_model)\n",
    "qa = RetrievalQA.from_chain_type(llm=llm, retriever=retriever)"
   ]
  },
  {
   "cell_type": "code",
   "execution_count": 29,
   "id": "d3cdf57d-065f-426f-96bd-c9659e3eb162",
   "metadata": {},
   "outputs": [
    {
     "name": "stdout",
     "output_type": "stream",
     "text": [
      "Yes. The text states that Nathan Ball is appealing against his conviction on two counts of rape.\n",
      "\n"
     ]
    }
   ],
   "source": [
    "query = \"Is Nathan Ball a convicted rapist?\"\n",
    "print(qa.run(query))"
   ]
  },
  {
   "cell_type": "code",
   "execution_count": null,
   "id": "6a43fb4b-fe90-4988-a8f0-185d1a30f3af",
   "metadata": {},
   "outputs": [],
   "source": []
  },
  {
   "cell_type": "code",
   "execution_count": null,
   "id": "7d1ab092-8972-4f89-897d-dbaf08621def",
   "metadata": {},
   "outputs": [],
   "source": []
  }
 ],
 "metadata": {
  "kernelspec": {
   "display_name": "Python 3 (ipykernel)",
   "language": "python",
   "name": "python3"
  },
  "language_info": {
   "codemirror_mode": {
    "name": "ipython",
    "version": 3
   },
   "file_extension": ".py",
   "mimetype": "text/x-python",
   "name": "python",
   "nbconvert_exporter": "python",
   "pygments_lexer": "ipython3",
   "version": "3.11.11"
  }
 },
 "nbformat": 4,
 "nbformat_minor": 5
}
